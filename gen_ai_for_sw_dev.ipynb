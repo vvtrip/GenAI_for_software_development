{
 "cells": [
  {
   "cell_type": "markdown",
   "id": "f56b3ba5-27b0-4d90-95e1-b3b5486dae7b",
   "metadata": {},
   "source": [
    "Traditional programming - rules + data -> answers\n",
    "\n",
    "Machine Learning - answers + data -> rules"
   ]
  },
  {
   "cell_type": "code",
   "execution_count": null,
   "id": "39410ae0-83e3-43bb-be49-41ca36f3cce7",
   "metadata": {},
   "outputs": [],
   "source": []
  }
 ],
 "metadata": {
  "kernelspec": {
   "display_name": "Python 3 (ipykernel)",
   "language": "python",
   "name": "python3"
  },
  "language_info": {
   "codemirror_mode": {
    "name": "ipython",
    "version": 3
   },
   "file_extension": ".py",
   "mimetype": "text/x-python",
   "name": "python",
   "nbconvert_exporter": "python",
   "pygments_lexer": "ipython3",
   "version": "3.10.1"
  }
 },
 "nbformat": 4,
 "nbformat_minor": 5
}
